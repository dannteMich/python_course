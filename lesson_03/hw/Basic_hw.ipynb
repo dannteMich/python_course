{
 "cells": [
  {
   "cell_type": "code",
   "execution_count": 2,
   "metadata": {},
   "outputs": [],
   "source": [
    "def is_prime(num):\n",
    "    if num <= 1:\n",
    "        return False\n",
    "\n",
    "    c = 2\n",
    "    while c < num:\n",
    "        if num % c == 0:\n",
    "            return False\n",
    "\n",
    "        c += 1\n",
    "    \n",
    "    return True"
   ]
  },
  {
   "cell_type": "code",
   "execution_count": 3,
   "metadata": {},
   "outputs": [],
   "source": [
    "def print_prime_elements(num):\n",
    "    if num < 2:\n",
    "        print(\"There are no prime elements\")\n",
    "        return\n",
    "\n",
    "    if is_prime(num):\n",
    "        print(num, \"is prime\")\n",
    "        return\n",
    "\n",
    "    while not is_prime(num):\n",
    "        \n",
    "        e = 2\n",
    "        while True:\n",
    "            if num % e == 0 and is_prime(e):\n",
    "                break\n",
    "            e = e + 1\n",
    "\n",
    "        print(\"element is\", e)\n",
    "        num = num // e\n",
    "\n",
    "    print(\"last element is\", num)"
   ]
  },
  {
   "cell_type": "code",
   "execution_count": 6,
   "metadata": {},
   "outputs": [],
   "source": [
    "def max_number(a, b):\n",
    "    if a > b:\n",
    "        return a\n",
    "    else:\n",
    "        return b"
   ]
  },
  {
   "cell_type": "code",
   "execution_count": 7,
   "metadata": {},
   "outputs": [],
   "source": [
    "def small_common_denominator(a, b):\n",
    "    number = max_number(a, b)\n",
    "    while number % a != 0 or number % b != 0:\n",
    "        number = number + 1\n",
    "\n",
    "    return number"
   ]
  },
  {
   "cell_type": "code",
   "execution_count": 9,
   "metadata": {},
   "outputs": [
    {
     "data": {
      "text/plain": [
       "21"
      ]
     },
     "execution_count": 9,
     "metadata": {},
     "output_type": "execute_result"
    }
   ],
   "source": [
    "small_common_denominator(3, 7)"
   ]
  },
  {
   "cell_type": "markdown",
   "metadata": {},
   "source": []
  }
 ],
 "metadata": {
  "kernelspec": {
   "display_name": "Python 3",
   "language": "python",
   "name": "python3"
  },
  "language_info": {
   "codemirror_mode": {
    "name": "ipython",
    "version": 3
   },
   "file_extension": ".py",
   "mimetype": "text/x-python",
   "name": "python",
   "nbconvert_exporter": "python",
   "pygments_lexer": "ipython3",
   "version": "3.7.6"
  }
 },
 "nbformat": 4,
 "nbformat_minor": 4
}
