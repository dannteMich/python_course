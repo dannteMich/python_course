{
 "cells": [
  {
   "cell_type": "markdown",
   "metadata": {},
   "source": [
    "## Getting the Info\n",
    "\n",
    "Before we start we need to talk a moment about **API**s in the internet\n",
    "\n",
    "We will work with the information about late and great [Grace Hopper](https://en.wikipedia.org/wiki/Grace_Hopper) from Wikipedia.\n",
    "First lets get the Information.\n",
    "\n",
    "The Api request looks like this:\n",
    "\n",
    "https://en.wikipedia.org/w/api.php?format=json&action=query&prop=extracts&explaintext&redirects=1&titles=Grace_Hopper"
   ]
  },
  {
   "cell_type": "code",
   "execution_count": null,
   "metadata": {},
   "outputs": [],
   "source": [
    "import requests\n",
    "\n",
    "payload = {\n",
    "    \"format\":\"json\",\n",
    "    \"action\":\"query\",\n",
    "    \"prop\": \"extracts\",\n",
    "    \"explaintext\": \"1\",\n",
    "    \"redirects\": \"1\",\n",
    "    \"titles\": \"Grace_Hopper\"\n",
    "}\n",
    "json_response = requests.get('https://en.wikipedia.org/w/api.php', params=payload).json()\n",
    "json_response"
   ]
  },
  {
   "cell_type": "markdown",
   "metadata": {},
   "source": [
    "## Cleaning up the text"
   ]
  },
  {
   "cell_type": "code",
   "execution_count": null,
   "metadata": {},
   "outputs": [],
   "source": [
    "text = \"\"\n",
    "for pagenum, page_info in json_response['query']['pages'].items():\n",
    "    text = text + page_info[\"extract\"]\n",
    "    \n",
    "text"
   ]
  },
  {
   "cell_type": "markdown",
   "metadata": {},
   "source": [
    "## Lets encrypt this\n",
    "\n",
    "We will encrypt (actually encode) this text using a randomly generated replacement dictionary. So lets to that.\n",
    "\n",
    "*Python is actually pretty useful with random stuff*\n",
    "\n",
    "#### Firs we will create the replacement dictionary randomly"
   ]
  },
  {
   "cell_type": "code",
   "execution_count": null,
   "metadata": {},
   "outputs": [],
   "source": [
    "import random\n",
    "from string import ascii_lowercase\n",
    "\n",
    "print(ascii_lowercase)\n",
    "replacement = random.sample(ascii_lowercase, len(ascii_lowercase))\n",
    "replacement = \"\".join(replacement)\n",
    "print(replacement)"
   ]
  },
  {
   "cell_type": "code",
   "execution_count": null,
   "metadata": {},
   "outputs": [],
   "source": [
    "replacement_dict = {}\n",
    "for a, b in zip(ascii_lowercase, replacement):\n",
    "    replacement_dict[a] = b\n",
    "    \n",
    "print(replacement_dict)"
   ]
  },
  {
   "cell_type": "markdown",
   "metadata": {},
   "source": [
    "#### Now lets encode this"
   ]
  },
  {
   "cell_type": "code",
   "execution_count": null,
   "metadata": {},
   "outputs": [],
   "source": [
    "encoded= ''\n",
    "for char in text:\n",
    "    lower_char = char.lower()\n",
    "    if lower_char in replacement_dict:\n",
    "        encoded = encoded + replacement_dict[lower_char]\n",
    "    else:\n",
    "        encoded = encoded + char\n",
    "        \n",
    "print(encoded)"
   ]
  },
  {
   "cell_type": "markdown",
   "metadata": {},
   "source": [
    "> Please note I have left the numbersm spaces and panctuation alone. But I did ruin capital letters"
   ]
  },
  {
   "cell_type": "markdown",
   "metadata": {},
   "source": [
    "## Breaking the encryption\n",
    "\n",
    "This is not going to be a hard one, But I will demonstrate some things. And I will do it using [Frequency Analysis](https://en.wikipedia.org/wiki/Frequency_analysis)\n",
    " \n",
    " So now we need to cound the letters."
   ]
  },
  {
   "cell_type": "code",
   "execution_count": null,
   "metadata": {},
   "outputs": [],
   "source": [
    "counters = {}\n",
    "for char in encoded:\n",
    "    if char not in ascii_lowercase:\n",
    "        continue\n",
    "    elif char in counters.keys():\n",
    "        counters[char] += 1\n",
    "    else:\n",
    "        counters[char] = 1\n",
    "        \n",
    "print(counters)"
   ]
  },
  {
   "cell_type": "markdown",
   "metadata": {},
   "source": [
    "#### Getting total number of letters"
   ]
  },
  {
   "cell_type": "code",
   "execution_count": null,
   "metadata": {},
   "outputs": [],
   "source": [
    "total_letters = 0\n",
    "for num in counters.values():\n",
    "    total_letters += num\n",
    "    \n",
    "print(total_letters)"
   ]
  },
  {
   "cell_type": "markdown",
   "metadata": {},
   "source": [
    "### Lets try to show this more clearly"
   ]
  },
  {
   "cell_type": "code",
   "execution_count": null,
   "metadata": {},
   "outputs": [],
   "source": [
    "%matplotlib notebook\n",
    "import matplotlib.pyplot as plt\n",
    "\n",
    "letters = []\n",
    "appearences = []\n",
    "\n",
    "for letter, counter in counters.items():\n",
    "    letters.append(letter)\n",
    "    appearences.append(counter)\n",
    "\n",
    "print(letters)\n",
    "print(appearences)\n",
    "\n",
    "plt.bar(letters, appearences, 0.8, color='red' )\n",
    "plt.show()"
   ]
  },
  {
   "cell_type": "markdown",
   "metadata": {},
   "source": [
    "### Lets try this again with frequncies as a precentage\n",
    "\n",
    "and also lets look at [frequncy table in the english language](http://pi.math.cornell.edu/~mec/2003-2004/cryptography/subs/frequencies.html) and the [list of common words in english](https://en.wikipedia.org/wiki/Most_common_words_in_English)"
   ]
  },
  {
   "cell_type": "code",
   "execution_count": null,
   "metadata": {},
   "outputs": [],
   "source": [
    "%matplotlib notebook\n",
    "import matplotlib.pyplot as plt\n",
    "\n",
    "letters = []\n",
    "appearences = []\n",
    "\n",
    "for letter, counter in counters.items():\n",
    "    if letter in \"abinosuz\":          # This line and the next should be commented\n",
    "        continue\n",
    "    letters.append(letter)\n",
    "    appearences.append(counter / total_letters)\n",
    "\n",
    "plt.bar(letters, appearences, 0.6, color='b' )\n",
    "\n",
    "plt.show()"
   ]
  },
  {
   "cell_type": "markdown",
   "metadata": {},
   "source": [
    "## Now lets try to recustruct the text\n",
    "\n",
    "With trial and error..."
   ]
  },
  {
   "cell_type": "code",
   "execution_count": null,
   "metadata": {},
   "outputs": [],
   "source": [
    "d = {\n",
    " 'a': 'A',\n",
    " 'b': 'B',\n",
    " 'c': 'C',\n",
    " 'd': 'D',\n",
    " 'e': 'E',\n",
    " 'f': 'F',\n",
    " 'g': 'G',\n",
    " 'h': 'H',\n",
    " 'i': 'I',\n",
    " 'j': 'J',\n",
    " 'k': 'K',\n",
    " 'l': 'L',\n",
    " 'm': 'M',\n",
    " 'n': 'N',\n",
    " 'o': 'O',\n",
    " 'p': 'P',\n",
    " 'q': 'Q',\n",
    " 'r': 'R',\n",
    " 's': 'S',\n",
    " 't': 'T',\n",
    " 'u': 'U',\n",
    " 'v': 'V',\n",
    " 'w': 'W',\n",
    " 'x': 'X',\n",
    " 'y': 'Y',\n",
    " 'z': 'Z'\n",
    "}\n",
    "\n",
    "decoded = ''\n",
    "for l in encoded:\n",
    "    if l in d:\n",
    "        decoded += d[l]\n",
    "    else:\n",
    "        decoded += l\n",
    "        \n",
    "print(decoded)"
   ]
  },
  {
   "cell_type": "markdown",
   "metadata": {},
   "source": [
    "# So what did we see?\n",
    "\n",
    "* Doing API requests\n",
    "    * start of a simple bot...\n",
    "* Some work with randomization\n",
    "* Some basic encoding\n",
    "    * Python has a lot of encoding options, and not so bad encryption algorithms\n",
    "* Analyzing text\n",
    "    * This was just a word count, but python has NLTK which is amazing\n",
    "* Graphical plotting\n",
    "* attemps at breaking a code."
   ]
  }
 ],
 "metadata": {
  "kernelspec": {
   "display_name": "Python 3",
   "language": "python",
   "name": "python3"
  },
  "language_info": {
   "codemirror_mode": {
    "name": "ipython",
    "version": 3
   },
   "file_extension": ".py",
   "mimetype": "text/x-python",
   "name": "python",
   "nbconvert_exporter": "python",
   "pygments_lexer": "ipython3",
   "version": "3.7.6"
  }
 },
 "nbformat": 4,
 "nbformat_minor": 4
}
